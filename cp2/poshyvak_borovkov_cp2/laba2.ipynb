{
 "cells": [
  {
   "cell_type": "code",
   "execution_count": 1,
   "id": "83296df1",
   "metadata": {},
   "outputs": [
    {
     "name": "stdout",
     "output_type": "stream",
     "text": [
      "Лабораторна робота №2\n",
      "\n",
      "Варіант 6\n",
      "\n",
      "Виконали:\n",
      "Боровков Нікіта ФБ-02\n",
      "Пошивак Назарій ФБ-02\n"
     ]
    }
   ],
   "source": [
    "print('Лабораторна робота №2\\n')\n",
    "print('Варіант 6\\n')\n",
    "print('Виконали:\\nБоровков Нікіта ФБ-02\\nПошивак Назарій ФБ-02')"
   ]
  },
  {
   "cell_type": "code",
   "execution_count": 2,
   "id": "fd57085b",
   "metadata": {},
   "outputs": [],
   "source": [
    "#Глобальні змінні, які будуть використовуватися у декількох функціях\n",
    "KEY_LENGTHS_TASK1 = [2,3,4,5] + list(range(10, 21))\n",
    "\n",
    "ALPHABET = [chr(i) for i in range(ord('а'), ord('я')+1)]\n",
    "\n",
    "ALPHABET_LENGTH = len(ALPHABET)\n",
    "\n",
    "RU_MOST_FREQUENT_LETTER = \"о\""
   ]
  },
  {
   "cell_type": "code",
   "execution_count": 3,
   "id": "53410071",
   "metadata": {},
   "outputs": [
    {
     "name": "stdout",
     "output_type": "stream",
     "text": [
      "Алфавіт:\n",
      " а б в г д е ж з и й к л м н о п р с т у ф х ц ч ш щ ъ ы ь э ю я\n"
     ]
    }
   ],
   "source": [
    "print('Алфавіт:\\n', *ALPHABET)"
   ]
  },
  {
   "cell_type": "code",
   "execution_count": 4,
   "id": "02c946a9",
   "metadata": {},
   "outputs": [
    {
     "name": "stdout",
     "output_type": "stream",
     "text": [
      "Вихідний текст:\n",
      " Лида, друг мой неизменный,\n",
      "Почему сквозь лёгкий сон\n",
      "Часто, негой утомлённый,\n",
      "Слышу я твой тихий стон?\n",
      "Почему, в любви счастливой\n",
      "Видя страшную мечту,\n",
      "Взор недвижный, боязливый\n",
      "Устремляешь в темноту?\n",
      "Почему, когда вкушаю\n",
      "Быстрый обморок любви,\n",
      "Иногда я замечаю\n",
      "Слезы тайные твои?\n",
      "Ты рассеянно внимаешь\n",
      "Речи пламенной моей,\n",
      "Хладно руку пожимаешь,\n",
      "Хладен взор твоих очей…\n",
      "О бесценная подруга!\n",
      "Вечно ль слезы проливать,\n",
      "Вечно ль мертвого супруга\n",
      "Из могилы вызывать?\n",
      "Верь мне: узников могилы\n",
      "Беспробуден хладный сон;\n",
      "Им не мил уж голос милый,\n",
      "Не прискорбен скорби стон;\n",
      "Не для них — надгробны розы,\n",
      "Сладость утра, шум пиров,\n",
      "Откровенной дружбы слезы\n",
      "И любовниц робкий зов…\n",
      "Рано друг твой незабвенный\n",
      "Вздохом смерти воздохнул\n",
      "И, блаженством упоенный,\n",
      "На груди твоей уснул.\n",
      "Спит увенчанный счастливец;\n",
      "Верь любви — невинны мы.\n",
      "Нет, разгневанный ревнивец\n",
      "Не придёт из вечной тьмы;\n",
      "Тихой ночью гром не грянет,\n",
      "И завистливая тень\n",
      "Близ любовников не станет,\n",
      "Вызывая спящий день.\n",
      "\n",
      "Оброблений текст:\n",
      " лидадругмойнеизменныйпочемусквозьлгкийсончастонегойутомлнныйслышуятвойтихийстонпочемувлюбвисчастливойвидястрашнуюмечтувзорнедвижныйбоязливыйустремляешьвтемнотупочемукогдавкушаюбыстрыйобмороклюбвииногдаязамечаюслезытайныетвоитырассеянновнимаешьречипламенноймоейхладнорукупожимаешьхладенвзортвоихочейобесценнаяподругавечнольслезыпроливатьвечнольмертвогосупругаизмогилывызыватьверьмнеузниковмогилыбеспробуденхладныйсонимнемилужголосмилыйнеприскорбенскорбистоннедлянихнадгробнырозысладостьутрашумпировоткровеннойдружбыслезыилюбовницробкийзовранодругтвойнезабвенныйвздохомсмертивоздохнулиблаженствомупоенныйнагрудитвоейуснулспитувенчанныйсчастливецверьлюбвиневиннымынетразгневанныйревнивецнепридтизвечнойтьмытихойночьюгромнегрянетизавистливаятеньблизлюбовниковнестанетвызываяспящийдень\n"
     ]
    }
   ],
   "source": [
    "#зчитуємо текст з вихідного файлу. У нашому випадку це вірш Пушкіна \"К молодой вдове\"\n",
    "#Також прибираємо з нього розділові знаки, пробіли і newline-и\n",
    "import re\n",
    "def read_from_file(filename):\n",
    "    with open(filename, 'r', encoding='utf-8') as file:\n",
    "        txt = file.read()\n",
    "        print('Вихідний текст:\\n',txt)\n",
    "        txt = re.sub(r'[^а-я]', '', txt.lower().replace('\\n',' '))\n",
    "        print('\\nОброблений текст:\\n', txt)\n",
    "    return txt\n",
    "\n",
    "cleartext_task1 = read_from_file('Desktop/labas/crypto/lab2_task1.txt')"
   ]
  },
  {
   "cell_type": "code",
   "execution_count": 5,
   "id": "10081ecf",
   "metadata": {},
   "outputs": [],
   "source": [
    "#Функція для генерування ключів для 1-го завдання\n",
    "import random\n",
    "\n",
    "def gen_keys(chars):\n",
    "    combinations = []\n",
    "    for i in KEY_LENGTHS_TASK1:\n",
    "        start = random.randint(0, len(chars) - i) if len(chars) > i else 0\n",
    "        combinations.append(\"\".join(chars[start:start+i]))\n",
    "    print('\\nКлючі:')\n",
    "    print(\"{:<10} {:<10}\".format(\"Довжина\",\"Ключ\"))\n",
    "    for i,key in enumerate(combinations):\n",
    "        print(\"{:<10} {:<10}\".format(KEY_LENGTHS_TASK1[i], key))\n",
    "    return combinations    "
   ]
  },
  {
   "cell_type": "code",
   "execution_count": 6,
   "id": "720ba257",
   "metadata": {},
   "outputs": [
    {
     "name": "stdout",
     "output_type": "stream",
     "text": [
      "\n",
      "Ключі:\n",
      "Довжина    Ключ      \n",
      "2          ст        \n",
      "3          ийк       \n",
      "4          бвгд      \n",
      "5          ъыьэю     \n",
      "10         ийклмнопрс\n",
      "11         вгдежзийклм\n",
      "12         жзийклмнопрс\n",
      "13         жзийклмнопрст\n",
      "14         туфхцчшщъыьэюя\n",
      "15         опрстуфхцчшщъыь\n",
      "16         ежзийклмнопрстуф\n",
      "17         прстуфхцчшщъыьэюя\n",
      "18         ийклмнопрстуфхцчшщ\n",
      "19         клмнопрстуфхцчшщъыь\n",
      "20         зийклмнопрстуфхцчшщъ\n"
     ]
    }
   ],
   "source": [
    "keys_task1 = gen_keys(ALPHABET)"
   ]
  },
  {
   "cell_type": "code",
   "execution_count": 7,
   "id": "6b222885",
   "metadata": {},
   "outputs": [],
   "source": [
    "# Функція знаходження індексу відповідності\n",
    "def coincidence_index(text):\n",
    "    length = len(text)\n",
    "    index = sum([text.count(i) * (text.count(i) - 1) for i in ALPHABET]) / (length * (length - 1))\n",
    "    return index"
   ]
  },
  {
   "cell_type": "code",
   "execution_count": 8,
   "id": "3b5449ea",
   "metadata": {},
   "outputs": [],
   "source": [
    "# Функція для шифрування відкритого тексту шифром Віженера\n",
    "def encrypt_vigenere(plaintext, key):\n",
    "    ciphertxt = \"\"\n",
    "    key_index = 0\n",
    "    for char in plaintext:\n",
    "        shift = ord(key[key_index % len(key)]) - ord('а')\n",
    "        ciphertxt += chr((ord(char) + shift - ord('а')) % ALPHABET_LENGTH + ord('а'))\n",
    "        key_index += 1\n",
    "    return ciphertxt"
   ]
  },
  {
   "cell_type": "code",
   "execution_count": 9,
   "id": "7fce9a88",
   "metadata": {},
   "outputs": [],
   "source": [
    "#Знайдемо індекси відповідності до відкритого тексту і до кожного шифротексту (вихідний текст + ключ[i]) \n",
    "def get_indices(cleartext, keys):\n",
    "    indices = []\n",
    "    indices.append(coincidence_index(cleartext))\n",
    "    for key in keys:\n",
    "        ciphertext = encrypt_vigenere(cleartext, key)\n",
    "        index = coincidence_index(ciphertext)\n",
    "        indices.append(index)\n",
    "        \n",
    "    print('Індекси відповідності:')\n",
    "    print(\"{:<10} {:<10}\".format(\"Довжина ключа\",\"Індекс відповідності\"))\n",
    "    print(\"{:<13} {:<10}\".format(\"cleartext\", indices[0]))\n",
    "    for i, index in enumerate(indices[1:]):\n",
    "        print(\"{:<13} {:<10}\".format(KEY_LENGTHS_TASK1[i], index))\n",
    "    keys_for_ciphering_lengths = ['cleartext']+[len(key) for key in keys]\n",
    "    return keys_for_ciphering_lengths, indices"
   ]
  },
  {
   "cell_type": "code",
   "execution_count": 10,
   "id": "b009ed2e",
   "metadata": {},
   "outputs": [
    {
     "name": "stdout",
     "output_type": "stream",
     "text": [
      "Індекси відповідності:\n",
      "Довжина ключа Індекс відповідності\n",
      "cleartext     0.050185971495342485\n",
      "2             0.04214146999769593\n",
      "3             0.04174319475988282\n",
      "4             0.03916263454132517\n",
      "5             0.038165300681346895\n",
      "10            0.03533787564596294\n",
      "11            0.035637404957045524\n",
      "12            0.035528784437641944\n",
      "13            0.03460057272637504\n",
      "14            0.035541950561206015\n",
      "15            0.035318126460616835\n",
      "16            0.032885685132154965\n",
      "17            0.033632862644415916\n",
      "18            0.033441953852736905\n",
      "19            0.03285606135413581\n",
      "20            0.031815937592574305\n"
     ]
    }
   ],
   "source": [
    "lengths_task1, indices_task1 = get_indices(cleartext_task1, keys_task1)"
   ]
  },
  {
   "cell_type": "code",
   "execution_count": 11,
   "id": "46f99630",
   "metadata": {},
   "outputs": [],
   "source": [
    "#Функція для зображення індексів на графіку\n",
    "import matplotlib.pyplot as plt\n",
    "def plot(x, y):\n",
    "    fig = plt.figure(figsize=(12,8), dpi=100)\n",
    "    ax = fig.add_subplot(111)\n",
    "    xx = range(len(x))\n",
    "    width = 0.8\n",
    "    ax.bar(xx, y, width, color='r', align='center')\n",
    "    ax.set_xticks(xx)\n",
    "    ax.set_xticklabels(x)"
   ]
  },
  {
   "cell_type": "code",
   "execution_count": 12,
   "id": "64674b07",
   "metadata": {},
   "outputs": [
    {
     "data": {
      "image/png": "[encoded data removed]",
      "text/plain": [
       "<Figure size 1200x800 with 1 Axes>"
      ]
     },
     "metadata": {},
     "output_type": "display_data"
    }
   ],
   "source": [
    "plot(lengths_task1, indices_task1)"
   ]
  },
  {
   "cell_type": "code",
   "execution_count": 13,
   "id": "31467aef",
   "metadata": {},
   "outputs": [],
   "source": [
    "#Функція для розшифрування шифротексту Віженером\n",
    "def decipher_vigenere(ciphertext, key):\n",
    "    import re\n",
    "    ciphertext = re.sub(r'[^а-я]', '', ciphertext)\n",
    "    key = re.sub(r'[^а-я]', '', key)\n",
    "    plaintext = \"\"\n",
    "    key_index = 0\n",
    "    for char in ciphertext:\n",
    "        shift = ord(key[key_index % len(key)]) - ord('а')\n",
    "        plaintext += chr((ord(char) - shift - ord('а')) % ALPHABET_LENGTH + ord('а'))\n",
    "        key_index += 1\n",
    "    return plaintext"
   ]
  },
  {
   "cell_type": "code",
   "execution_count": 14,
   "id": "1be6b0c9",
   "metadata": {},
   "outputs": [],
   "source": [
    "#Розшифруємо шифротекст наданий згідно варіанту (Варіант 6)\n",
    "def task3(filename):\n",
    "    with open(filename, 'r', encoding='utf-8') as file:\n",
    "        txt = file.read().replace(\"\\n\", \"\").replace(\" \", \"\")\n",
    "    key_lengths = [i+2 for i in range(40)]\n",
    "    indices = []\n",
    "    cd = {}\n",
    "    for k in key_lengths:\n",
    "        cd[k] = \"\".join(txt[::k])\n",
    "    for ciphertext in cd.values():\n",
    "        index = coincidence_index(ciphertext)\n",
    "        indices.append(index)\n",
    "            \n",
    "    print('Індекси відповідності:')\n",
    "    print(\"{:<10} {:<10}\".format(\"Довжина ключа\",\"Індекс відповідності\"))\n",
    "    for i, index in enumerate(indices):\n",
    "        print(\"{:<13} {:<10}\".format(i+2, index))\n",
    "    \n",
    "    return txt, key_lengths, indices"
   ]
  },
  {
   "cell_type": "code",
   "execution_count": 15,
   "id": "839dd408",
   "metadata": {},
   "outputs": [
    {
     "name": "stdout",
     "output_type": "stream",
     "text": [
      "Індекси відповідності:\n",
      "Довжина ключа Індекс відповідності\n",
      "2             0.03416500708378283\n",
      "3             0.034086615289694845\n",
      "4             0.03456919799923844\n",
      "5             0.033567059049018515\n",
      "6             0.033878646079923025\n",
      "7             0.034286478210101286\n",
      "8             0.03493222390647662\n",
      "9             0.034010367626517116\n",
      "10            0.034172501117235216\n",
      "11            0.03335174165045186\n",
      "12            0.03415061295971979\n",
      "13            0.03424903685814502\n",
      "14            0.03373815783982305\n",
      "15            0.03281315981419632\n",
      "16            0.03430059037535673\n",
      "17            0.0573299265410412\n",
      "18            0.03441083022516922\n",
      "19            0.03277931671283472\n",
      "20            0.03578674577600464\n",
      "21            0.03504624678711469\n",
      "22            0.036235468711352956\n",
      "23            0.03378302036020157\n",
      "24            0.03273218010060115\n",
      "25            0.03275381552753816\n",
      "26            0.032751469063256135\n",
      "27            0.03507516105941303\n",
      "28            0.03405821344931415\n",
      "29            0.03207466208968033\n",
      "30            0.03321075614801195\n",
      "31            0.03314173902409197\n",
      "32            0.0313844816344273\n",
      "33            0.03205128205128205\n",
      "34            0.05871631939313334\n",
      "35            0.03239141810570382\n",
      "36            0.0362634334527418\n",
      "37            0.03423423423423423\n",
      "38            0.03339472068753837\n",
      "39            0.030064935064935065\n",
      "40            0.04032367741058072\n",
      "41            0.03514399771884802\n"
     ]
    }
   ],
   "source": [
    "ciphertext_task3, keys_task3, indices_task3 = task3('Desktop/labas/crypto/lab2_task3.txt')"
   ]
  },
  {
   "cell_type": "code",
   "execution_count": 16,
   "id": "0e692f25",
   "metadata": {},
   "outputs": [
    {
     "data": {
      "image/png": "[encoded data removed]",
      "text/plain": [
       "<Figure size 1200x800 with 1 Axes>"
      ]
     },
     "metadata": {},
     "output_type": "display_data"
    }
   ],
   "source": [
    "plot(keys_task3,indices_task3)"
   ]
  },
  {
   "cell_type": "code",
   "execution_count": 17,
   "id": "a32dfcc2",
   "metadata": {},
   "outputs": [],
   "source": [
    "#Функція для знаходження підходящих ключів\n",
    "def find_key_length(IC, threshold):\n",
    "    max_ic = max(IC)\n",
    "    key_lengths = []\n",
    "    for i, ic_val in enumerate(IC):\n",
    "        if ic_val + threshold >= max_ic:\n",
    "            key_lengths.append(i+2)\n",
    "    return key_lengths"
   ]
  },
  {
   "cell_type": "code",
   "execution_count": 20,
   "id": "28f09536",
   "metadata": {},
   "outputs": [],
   "source": [
    "#Функція для знаходження ключів\n",
    "import operator\n",
    "\n",
    "def guess_key(txt, key_length, depth):\n",
    "    possible_keys = [\"\"] * depth\n",
    "    key_variables = [\"\".join(txt[k::key_length] for k in range(key_length))]\n",
    "\n",
    "    for k in key_variables:\n",
    "        letter_count = {}\n",
    "        for letter in k:\n",
    "            if letter in letter_count:\n",
    "                letter_count[letter] += 1\n",
    "            else:\n",
    "                letter_count[letter] = 1\n",
    "\n",
    "        sorted_chars = sorted(letter_count.keys(), key=letter_count.get, reverse=True)\n",
    "        \n",
    "        alphabet_index = {letter: index for index, letter in enumerate(ALPHABET)}\n",
    "        for i in range(depth):\n",
    "            idx = (alphabet_index[sorted_chars[i]] - alphabet_index[RU_MOST_FREQUENT_LETTER]) % len(ALPHABET)\n",
    "            possible_keys[i] += ALPHABET[idx]\n",
    "\n",
    "    return possible_keys"
   ]
  },
  {
   "cell_type": "code",
   "execution_count": 21,
   "id": "199a93af",
   "metadata": {},
   "outputs": [
    {
     "name": "stdout",
     "output_type": "stream",
     "text": [
      "Довжина ключів з індексами відповідності, які перевищують теоретичні значення: [17, 34]\n",
      "Можливі ключі: д; з; я; в\n",
      "Найбільш підходящий ключ: \"д\"\n"
     ]
    }
   ],
   "source": [
    "most_likely_keys_length = find_key_length(indices_task3, 0.01)\n",
    "print(f'Довжина ключів з індексами відповідності, які перевищують теоретичні значення: {most_likely_keys_length}')\n",
    "# print(f'Довжина найбільш підходящого ключа: {most_likely_keys_length[0]}')\n",
    "possible_keys = guess_key(ciphertext_task3, most_likely_keys_length[0], 4)\n",
    "print(f'Можливі ключі: {\"; \".join(possible_keys)}')\n",
    "print(f'Найбільш підходящий ключ: \"{possible_keys[0]}\"')"
   ]
  },
  {
   "cell_type": "code",
   "execution_count": null,
   "id": "b61db450",
   "metadata": {},
   "outputs": [],
   "source": [
    "#Розшифруємо шифротекст ключем, який отримаємо у результаті перетину отриманих ключів\n",
    "possible_key = 'возвращениеджинна'\n",
    "answer_task3 = decipher_vigenere(ciphertext_task3, possible_key)\n",
    "print(f'Шифротекст, розшифрований ключем \"{possible_key}\":\\n{answer_task3}')"
   ]
  }
 ],
 "metadata": {
  "kernelspec": {
   "display_name": "Python 3 (ipykernel)",
   "language": "python",
   "name": "python3"
  },
  "language_info": {
   "codemirror_mode": {
    "name": "ipython",
    "version": 3
   },
   "file_extension": ".py",
   "mimetype": "text/x-python",
   "name": "python",
   "nbconvert_exporter": "python",
   "pygments_lexer": "ipython3",
   "version": "3.9.16"
  }
 },
 "nbformat": 4,
 "nbformat_minor": 5
}
